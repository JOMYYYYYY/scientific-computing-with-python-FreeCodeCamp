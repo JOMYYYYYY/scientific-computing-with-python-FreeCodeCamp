{
 "cells": [
  {
   "cell_type": "markdown",
   "metadata": {},
   "source": [
    "## `add_time` Function\n",
    "\n",
    "Write a function named `add_time` that takes in two required parameters and one optional parameter:\n",
    "\n",
    "- a start time in the 12-hour clock format (ending in AM or PM)\n",
    "- a duration time that indicates the number of hours and minutes\n",
    "- (optional) a starting day of the week, case insensitive\n",
    "\n",
    "The function should add the duration time to the start time and return the result.\n",
    "\n",
    "If the result will be the next day, it should show *(next day)* after the time.  \n",
    "If the result will be more than one day later, it should show *(n days later)* after the time, where \"n\" is the number of days later.\n",
    "\n",
    "If the function is given the optional starting day of the week parameter, then the output should display the day of the week of the result.  \n",
    "The day of the week in the output should appear after the time and before the number of days later.\n",
    "\n",
    "### Examples\n",
    "\n",
    "```python\n",
    "add_time(\"3:00 PM\", \"3:10\")\n",
    "# Returns: 6:10 PM\n",
    "\n",
    "add_time(\"11:30 AM\", \"2:32\", \"Monday\")\n",
    "# Returns: 2:02 PM, Monday\n",
    "\n",
    "add_time(\"11:43 AM\", \"00:20\")\n",
    "# Returns: 12:03 PM\n",
    "\n",
    "add_time(\"10:10 PM\", \"3:30\")\n",
    "# Returns: 1:40 AM (next day)\n",
    "\n",
    "add_time(\"11:43 PM\", \"24:20\", \"tueSday\")\n",
    "# Returns: 12:03 AM, Thursday (2 days later)\n",
    "\n",
    "add_time(\"6:30 PM\", \"205:12\")\n",
    "# Returns: 7:42 AM (9 days later)\n",
    "```\n",
    "\n",
    "Do not import any Python libraries. Assume that the start times are valid times.  \n",
    "The minutes in the duration time will be a whole number less than 60, but the hour can be any whole number.\n"
   ]
  },
  {
   "cell_type": "code",
   "execution_count": 114,
   "metadata": {},
   "outputs": [],
   "source": [
    "# solution\n",
    "\n",
    "class Time:\n",
    "    def __init__(self, current_time: str, addition: str, current_date: str = None):\n",
    "        self.current_time = current_time\n",
    "        self.addition = addition\n",
    "        self.current_date = current_date\n",
    "        \n",
    "    def standerize_time(self, current_time: str):\n",
    "        '''\n",
    "        make it a standerd notion of expressing the time\n",
    "        \"3:00 PM\" -> hour: 15 minute: 0 all_minute: 900\n",
    "        \"11:43 pM\" -> hour: 23 minute: 43 all_minute: 1423\n",
    "        '''\n",
    "        hour, minute, M = current_time.split(':')[0], current_time.split(':')[1].split(' ')[0], current_time.split(':')[1].split(' ')[1]\n",
    "        hour = int(hour)\n",
    "        minute = int(minute)\n",
    "        if M == 'PM':\n",
    "            hour += 12\n",
    "        all_minute = hour * 60 + minute\n",
    "        # print(f'hour: {hour} minute: {minute} all_minute: {all_minute}')\n",
    "        return [hour, minute, all_minute]\n",
    "\n",
    "    def standerize_addition(self, addition: str):\n",
    "        hour, minute = int(addition.split(':')[0]), int(addition.split(':')[1])\n",
    "        all_minute = hour * 60 + minute\n",
    "        return all_minute\n",
    "    \n",
    "    def add_time(self):\n",
    "        result_time_all_minute = self.standerize_time(self.current_time)[2] + self.standerize_addition(self.addition)\n",
    "        return result_time_all_minute\n",
    "    \n",
    "    def date_span(self):\n",
    "        # 1 get how many minutes left for the current day\n",
    "        current_day_minute_left = 24 * 60 - self.standerize_time(self.current_time)[2]\n",
    "        # 2 check the add all_minute is larger than the current_day_minute_left or not\n",
    "        if self.standerize_addition(self.addition) < current_day_minute_left:\n",
    "            return 0\n",
    "        else:\n",
    "            return (self.standerize_addition(self.addition) - current_day_minute_left) // (24 * 60) + 1\n",
    "        \n",
    "    def time_display(self):\n",
    "        day_minute = self.add_time() % (24 * 60)\n",
    "        print(f'day_minute: {day_minute}')\n",
    "        # AM\n",
    "        if day_minute < (12 * 60):\n",
    "            hour = (day_minute // 60)\n",
    "            minute = day_minute - hour * 60\n",
    "            if hour == 0:\n",
    "                hour = 12\n",
    "            formatted = f'{int(hour)}:{int(minute):02} AM'\n",
    "            \n",
    "        # PM \n",
    "        else:\n",
    "            hour = (day_minute // 60) - 12\n",
    "            minute = day_minute - (hour + 12) * 60\n",
    "            if hour == 0:\n",
    "                hour = 12\n",
    "            formatted = f'{int(hour)}:{int(minute):02} PM'\n",
    "        # print(formatted)\n",
    "        return formatted\n",
    "    \n",
    "    # The weekdays in English are Monday, Tuesday, Wednesday, Thursday, and Friday. The weekend days are Saturday and Sunday.\n",
    "    date_to_number = {\n",
    "        'monday': 1,\n",
    "        'tuesday': 2,\n",
    "        'wedensday': 3,\n",
    "        'thursday': 4,\n",
    "        'friday': 5,\n",
    "        'saturday': 6,\n",
    "        'sunday': 7\n",
    "    }\n",
    "    date_to_format = {\n",
    "        'monday': 'Monday',\n",
    "        'tuesday': 'Tuesday',\n",
    "        'wedensday': 'Wedensday',\n",
    "        'thursday': 'Thursday',\n",
    "        'friday': 'Friday',\n",
    "        'saturday': 'Saturday',\n",
    "        'sunday': 'Sunday'\n",
    "    }\n",
    "    number_to_date = {\n",
    "        1: 'monday',\n",
    "        2: 'tuesday',\n",
    "        3:'wedensday',\n",
    "        4:'thursday',\n",
    "        5: 'friday',\n",
    "        6: 'saturday',\n",
    "        7: 'sunday'\n",
    "    }\n",
    "\n",
    "    def date_display(self):\n",
    "        days = self.date_span()\n",
    "        # have to add the date of week information at the second place\n",
    "        if self.current_date:\n",
    "            weekday = None\n",
    "            date_number = self.date_to_number[self.current_date.lower()]\n",
    "            date_number = (date_number + days) % 7\n",
    "            weekday = self.date_to_format[self.number_to_date[date_number]]\n",
    "            format_1 = f', {weekday}'\n",
    "        # do not have to\n",
    "        else:\n",
    "            format_1 = ''\n",
    "\n",
    "        if days == 0:\n",
    "            format_2 = ''\n",
    "        elif days == 1:\n",
    "            format_2 = ' (next day)'\n",
    "        else:\n",
    "            format_2 = f' ({days} days later)'\n",
    "        # print(format_1 + format_2)\n",
    "        return format_1 + format_2\n",
    "    \n",
    "    def solve(self):\n",
    "        time_fortmat = self.time_display()\n",
    "        date_format = self.date_display()\n",
    "        return time_fortmat + date_format\n"
   ]
  },
  {
   "cell_type": "code",
   "execution_count": 115,
   "metadata": {},
   "outputs": [
    {
     "name": "stdout",
     "output_type": "stream",
     "text": [
      "day_minute: 1090\n",
      "day_minute: 1090\n"
     ]
    },
    {
     "data": {
      "text/plain": [
       "'6:10 PM'"
      ]
     },
     "execution_count": 115,
     "metadata": {},
     "output_type": "execute_result"
    }
   ],
   "source": [
    "time1 = Time(\"3:00 PM\", \"3:10\")\n",
    "time1.standerize_time(time1.current_time)\n",
    "time1.add_time()\n",
    "time1.date_span()\n",
    "time1.time_display()\n",
    "time1.date_display()\n",
    "time1.solve()\n"
   ]
  },
  {
   "cell_type": "code",
   "execution_count": 116,
   "metadata": {},
   "outputs": [
    {
     "name": "stdout",
     "output_type": "stream",
     "text": [
      "day_minute: 842\n",
      "day_minute: 842\n"
     ]
    },
    {
     "data": {
      "text/plain": [
       "'2:02 PM, Monday'"
      ]
     },
     "execution_count": 116,
     "metadata": {},
     "output_type": "execute_result"
    }
   ],
   "source": [
    "time2 = Time(\"11:30 AM\", \"2:32\", \"Monday\")\n",
    "# time2.standerize_time(time2.current_time)\n",
    "# time2.add_time()\n",
    "# time2.date_span()\n",
    "time2.time_display()\n",
    "time2.date_display()\n",
    "time2.solve()"
   ]
  },
  {
   "cell_type": "code",
   "execution_count": 117,
   "metadata": {},
   "outputs": [
    {
     "name": "stdout",
     "output_type": "stream",
     "text": [
      "day_minute: 723\n"
     ]
    },
    {
     "data": {
      "text/plain": [
       "'12:03 PM'"
      ]
     },
     "execution_count": 117,
     "metadata": {},
     "output_type": "execute_result"
    }
   ],
   "source": [
    "time3 = Time(\"11:43 AM\", \"00:20\")\n",
    "# time3.standerize_time(time3.current_time)\n",
    "# time3.add_time()\n",
    "# time3.date_span()\n",
    "# time3.time_display()\n",
    "time3.date_display()\n",
    "time3.solve()"
   ]
  },
  {
   "cell_type": "code",
   "execution_count": 118,
   "metadata": {},
   "outputs": [
    {
     "name": "stdout",
     "output_type": "stream",
     "text": [
      "day_minute: 100\n",
      "day_minute: 100\n"
     ]
    },
    {
     "data": {
      "text/plain": [
       "'1:40 AM (next day)'"
      ]
     },
     "execution_count": 118,
     "metadata": {},
     "output_type": "execute_result"
    }
   ],
   "source": [
    "time4 = Time(\"10:10 PM\", \"3:30\")\n",
    "time4.date_span()\n",
    "time4.time_display()\n",
    "time4.date_display()\n",
    "time4.solve()"
   ]
  },
  {
   "cell_type": "code",
   "execution_count": 119,
   "metadata": {},
   "outputs": [
    {
     "name": "stdout",
     "output_type": "stream",
     "text": [
      "day_minute: 3\n",
      "day_minute: 3\n"
     ]
    },
    {
     "data": {
      "text/plain": [
       "'12:03 AM, Thursday (2 days later)'"
      ]
     },
     "execution_count": 119,
     "metadata": {},
     "output_type": "execute_result"
    }
   ],
   "source": [
    "time5 = Time(\"11:43 PM\", \"24:20\", \"tueSday\")\n",
    "time5.time_display()\n",
    "time5.date_display()\n",
    "time5.solve()"
   ]
  },
  {
   "cell_type": "code",
   "execution_count": 120,
   "metadata": {},
   "outputs": [
    {
     "name": "stdout",
     "output_type": "stream",
     "text": [
      "day_minute: 462\n",
      "day_minute: 462\n"
     ]
    },
    {
     "data": {
      "text/plain": [
       "'7:42 AM (9 days later)'"
      ]
     },
     "execution_count": 120,
     "metadata": {},
     "output_type": "execute_result"
    }
   ],
   "source": [
    "time6 = Time(\"6:30 PM\", \"205:12\")\n",
    "time6.time_display()\n",
    "time6.date_display()\n",
    "time6.solve()"
   ]
  }
 ],
 "metadata": {
  "kernelspec": {
   "display_name": "Python 3",
   "language": "python",
   "name": "python3"
  },
  "language_info": {
   "codemirror_mode": {
    "name": "ipython",
    "version": 3
   },
   "file_extension": ".py",
   "mimetype": "text/x-python",
   "name": "python",
   "nbconvert_exporter": "python",
   "pygments_lexer": "ipython3",
   "version": "3.9.2rc1"
  }
 },
 "nbformat": 4,
 "nbformat_minor": 2
}
