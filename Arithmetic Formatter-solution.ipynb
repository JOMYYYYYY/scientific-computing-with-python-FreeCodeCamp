{
 "cells": [
  {
   "cell_type": "markdown",
   "metadata": {},
   "source": [
    "\n",
    "### Function Call:\n",
    "```\n",
    "arithmetic_arranger([\"32 + 698\", \"3801 - 2\", \"45 + 43\", \"123 + 49\"])\n",
    "```\n",
    "\n",
    "\n",
    "### Output:\n",
    "```\n",
    "   32      3801      45      123\n",
    "+ 698    -    2    + 43    +  49\n",
    "-----    ------    ----    -----\n",
    "```\n",
    "### Function Call:\n",
    "```\n",
    "arithmetic_arranger([\"32 + 8\", \"1 - 3801\", \"9999 + 9999\", \"523 - 49\"], True)\n",
    "```\n",
    "### Output:\n",
    "```\n",
    "  32         1      9999      523\n",
    "+  8    - 3801    + 9999    -  49\n",
    "----    ------    ------    -----\n",
    "  40     -3800     19998      474\n",
    "```\n",
    "\n",
    "## Rules\n",
    "\n",
    "The function will return the correct conversion if the supplied problems are properly formatted, otherwise, it will return a string that describes an error that is meaningful to the user.\n",
    "\n",
    "### Situations that will return an error:\n",
    "1. If there are too many problems supplied to the function. The limit is five, anything more will return: **Error: Too many problems**.\n",
    "2. The appropriate operators the function will accept are addition and subtraction. Multiplication and division will return an error. Other operators not mentioned in this bullet point will not need to be tested. The error returned will be: **Error: Operator must be '+' or '-'**.\n",
    "3. Each number (operand) should only contain digits. Otherwise, the function will return: **Error: Numbers must only contain digits**.\n",
    "4. Each operand (aka number on each side of the operator) has a max of four digits in width. Otherwise, the error string returned will be: **Error: Numbers cannot be more than four digits**.\n",
    "\n",
    "### If the user supplied the correct format of problems, the conversion you return will follow these rules:\n",
    "1. There should be a single space between the operator and the longest of the two operands, the operator will be on the same line as the second operand, both operands will be in the same order as provided (the first will be the top one and the second will be the bottom).\n",
    "2. Numbers should be right-aligned.\n",
    "3. There should be four spaces between each problem.\n",
    "4. There should be dashes at the bottom of each problem. The dashes should run along the entire length of each problem individually. (The example above shows what this should look like).\n"
   ]
  },
  {
   "cell_type": "code",
   "execution_count": 136,
   "metadata": {},
   "outputs": [
    {
     "name": "stdout",
     "output_type": "stream",
     "text": [
      "Error: Too many problems.\n",
      "Error: Operator must be '+' or '-'.\n",
      "Error: Numbers must only contain digits.\n",
      "Error: Numbers cannot be more than four digits.\n",
      "good\n",
      "Error: Operator must be '+' or '-'.\n"
     ]
    }
   ],
   "source": [
    "# solution\n",
    "\n",
    "\n",
    "# 1 make sure all of the user input are valid\n",
    "def break_string(I):    \n",
    "    ''' \n",
    "    >>> print(break_string('3 + 23'))\n",
    "    >>> ['3', '+', '23']\n",
    "    '''\n",
    "    result = I.split(' ')\n",
    "    return result\n",
    "\n",
    "def error_1(I):\n",
    "    '''\n",
    "    >>> I = [\"32 + 698\", \"3801 - 2\", \"45 + 43\", \"123 + 49\", \"123 + 49\", \"123 + 49\"]\n",
    "    >>> error_1(I)\n",
    "    >>> 'Error: Too many problems.'\n",
    "    '''\n",
    "    if len(I) > 5:\n",
    "        return 'Error: Too many problems.'\n",
    "\n",
    "def error_2(I):\n",
    "    ''' \n",
    "    >>> I = [\"23 * 89\"]\n",
    "    >>> error_2(I)\n",
    "    >>> 'Error: Operator must be '+' or '-'.'\n",
    "    '''\n",
    "    error_2_text = \"Error: Operator must be '+' or '-'.\"\n",
    "    operators = [break_string(i)[1] for i in I]\n",
    "    for operator in operators:\n",
    "        if operator not in ['+', '-']:\n",
    "            return error_2_text\n",
    "\n",
    "\n",
    "def error_3(I):\n",
    "    ''' \n",
    "    >>> I = [\"a - 9\"]\n",
    "    >>> error_3(I)\n",
    "    >>> Error: Numbers must only contain digits.\n",
    "\n",
    "    >>> I = [\"89 - 9\", \"28C + 36D\"]\n",
    "    >>> error_3(I)\n",
    "    >>> Error: Numbers must only contain digits.\n",
    "    '''\n",
    "    error_3_text = \"Error: Numbers must only contain digits.\"\n",
    "    numbers = [break_string(i)[0] for i in I] + [break_string(i)[2] for i in I]\n",
    "    for number in numbers:\n",
    "        if not number.isdigit():\n",
    "            return error_3_text\n",
    "\n",
    "\n",
    "def error_4(I):\n",
    "    ''' \n",
    "    >>> I = [\"114514 - 9\"]\n",
    "    >>> error_4(I)\n",
    "    >>> Error: Numbers cannot be more than four digits.\n",
    "    '''\n",
    "    error_4_text = \"Error: Numbers cannot be more than four digits.\"\n",
    "    numbers = [break_string(i)[0] for i in I] + [break_string(i)[2] for i in I]\n",
    "    for number in numbers:\n",
    "        if len(number) > 4:\n",
    "            return error_4_text\n",
    "\n",
    "def input_validation(I):\n",
    "    \"\"\" \n",
    "    make sure the user supply the correct format of problems\n",
    "    \"\"\"\n",
    "    if error_1(I):\n",
    "        return error_1(I)\n",
    "    elif error_2(I):\n",
    "        return error_2(I)\n",
    "    elif error_3(I):\n",
    "        return error_3(I)\n",
    "    elif error_4(I):\n",
    "        return error_4(I)\n",
    "    else:\n",
    "        return 'good'\n",
    "\n",
    "\n",
    "# 1.1 test the error_1()\n",
    "INPUT_0 = [\"32 + 698\", \"3801 - 2\", \"45 + 43\", \"123 + 49\", \"123 + 49\", \"123 + 49\"]\n",
    "print(error_1(INPUT_0))\n",
    "\n",
    "# 1.2 test the error_2()\n",
    "INPUT_0 = [\"23 * 89\"]\n",
    "print(error_2(INPUT_0))\n",
    "\n",
    "# 1.3 test the error_3()\n",
    "INPUT_0 = [\"89 - 9\", \"28C + 36D\"]\n",
    "print(error_3(INPUT_0))\n",
    "\n",
    "# 1.4 test the error_4()\n",
    "INPUT_0 = [\"89000 - 9\", \"28C + 36D\"]\n",
    "print(error_4(INPUT_0))\n",
    "\n",
    "# 1.5 test the error_5()\n",
    "INPUT_1 = [\"32 + 8\", \"1 - 3801\", \"9999 + 9999\", \"523 - 49\"]\n",
    "print(input_validation(INPUT_1))\n",
    "print(input_validation([\"23 * 89\"]))\n"
   ]
  },
  {
   "cell_type": "markdown",
   "metadata": {},
   "source": [
    "### Function Call:\n",
    "```\n",
    "arithmetic_arranger([\"32 + 8\", \"1 - 3801\", \"9999 + 9999\", \"523 - 49\"], True)\n",
    "```\n",
    "### Output:\n",
    "```\n",
    "  32         1      9999      523\n",
    "+  8    - 3801    + 9999    -  49\n",
    "----    ------    ------    -----\n",
    "  40     -3800     19998      474\n",
    "```"
   ]
  },
  {
   "cell_type": "code",
   "execution_count": 137,
   "metadata": {},
   "outputs": [
    {
     "name": "stdout",
     "output_type": "stream",
     "text": [
      "[4, 6, 6, 5]\n"
     ]
    }
   ],
   "source": [
    "# 2 write a function to get a list of length of each arithmetic that will display\n",
    "def get_max_width_for_one_arithmetic(str1):\n",
    "    list1 = break_string(str1)\n",
    "    if len(list1[0]) > len(list1[2]):\n",
    "        return len(list1[0]) + 2\n",
    "    else:\n",
    "        return len(list1[2]) + 2\n",
    "\n",
    "def get_length_list(I):\n",
    "    length_list = []\n",
    "    for str1 in I:\n",
    "        length_list.append(get_max_width_for_one_arithmetic(str1))\n",
    "    return length_list\n",
    "\n",
    "# 2.1 test the get_length_list() function\n",
    "INPUT_1 = [\"32 + 8\", \"1 - 3801\", \"9999 + 9999\", \"523 - 49\"]\n",
    "list_of_length_of_each_arithmetic = get_length_list(INPUT_1)\n",
    "print(list_of_length_of_each_arithmetic)"
   ]
  },
  {
   "cell_type": "code",
   "execution_count": 138,
   "metadata": {},
   "outputs": [
    {
     "name": "stdout",
     "output_type": "stream",
     "text": [
      "  23\n",
      "\n",
      "  233\n",
      "\n",
      "   2\n",
      "\n",
      "  2334"
     ]
    }
   ],
   "source": [
    "# 3 write a function to print the number according to the given length and the length of the number, make it right aline print\n",
    "def right_print(number, given_length):\n",
    "    white_space_number = given_length - len(str(number))\n",
    "    for i in range(white_space_number):\n",
    "        print(\" \", end=\"\")\n",
    "    print(number, end=\"\")\n",
    "\n",
    "# 3.1 test the right_print() function, we can change the {print(\" \", end=\"\")} to {print(\"*\", end=\"\")} for better test output display\n",
    "right_print(23, 4)\n",
    "print('\\n')\n",
    "\n",
    "right_print(233, 5)\n",
    "print('\\n')\n",
    "\n",
    "right_print(2, 4)\n",
    "print('\\n')\n",
    "\n",
    "right_print(2334, 6)"
   ]
  },
  {
   "cell_type": "code",
   "execution_count": 139,
   "metadata": {},
   "outputs": [
    {
     "name": "stdout",
     "output_type": "stream",
     "text": [
      "[32, 1, 9999, 523]\n",
      "  32         1      9999      523    "
     ]
    }
   ],
   "source": [
    "# 4 print the first line of output\n",
    "def get_first_number_list(I):\n",
    "    first_number_list = []\n",
    "    for i in I:\n",
    "        list1 = break_string(i)\n",
    "        first_number_list.append(int(list1[0]))\n",
    "    return first_number_list\n",
    "\n",
    "def first_line(I):\n",
    "    first_number_list = get_first_number_list(I)\n",
    "    length_list = get_length_list(I)\n",
    "    for i in range(len(length_list)):\n",
    "        right_print(first_number_list[i], length_list[i])\n",
    "        print(\"    \", end=\"\")\n",
    "\n",
    "\n",
    "# 4.1 test the get_first_number_list() function\n",
    "INPUT_1 = [\"32 + 8\", \"1 - 3801\", \"9999 + 9999\", \"523 - 49\"]\n",
    "print(get_first_number_list(INPUT_1))\n",
    "\n",
    "# 4.2 test the first_line function\n",
    "first_line(INPUT_1)\n"
   ]
  },
  {
   "cell_type": "code",
   "execution_count": 140,
   "metadata": {},
   "outputs": [
    {
     "name": "stdout",
     "output_type": "stream",
     "text": [
      "[4, 6, 6, 5]\n",
      "[32, 1, 9999, 523]\n",
      "  32         1      9999      523    None\n"
     ]
    }
   ],
   "source": [
    "print(get_length_list([\"32 + 8\", \"1 - 3801\", \"9999 + 9999\", \"523 - 49\"]))\n",
    "print(get_first_number_list([\"32 + 8\", \"1 - 3801\", \"9999 + 9999\", \"523 - 49\"]))\n",
    "print(first_line([\"32 + 8\", \"1 - 3801\", \"9999 + 9999\", \"523 - 49\"]))"
   ]
  },
  {
   "cell_type": "code",
   "execution_count": 141,
   "metadata": {},
   "outputs": [
    {
     "name": "stdout",
     "output_type": "stream",
     "text": [
      "[8, 3801, 9999, 49]\n",
      "['+', '-', '+', '-']\n",
      "+  8    - 3801    + 9999    -  49    "
     ]
    }
   ],
   "source": [
    "# 5 print the second line of the output\n",
    "def get_second_number_list_and_operator(I):\n",
    "    second_number_list = []\n",
    "    operators = []\n",
    "    for i in I:\n",
    "        list1 = break_string(i)\n",
    "        second_number_list.append(int(list1[2]))\n",
    "        operators.append(list1[1])\n",
    "    return second_number_list, operators\n",
    "\n",
    "def second_line(I):\n",
    "    second_number_list, operators = get_second_number_list_and_operator(I)\n",
    "    length_list = get_length_list(I)\n",
    "    for i in range(len(length_list)):\n",
    "        print(operators[i], end=\"\")\n",
    "        right_print(second_number_list[i], length_list[i] - 1)\n",
    "        print(\"    \", end=\"\")\n",
    "\n",
    "# 5.1 test the get_second_number_list_and_operator() function\n",
    "INPUT_1 = [\"32 + 8\", \"1 - 3801\", \"9999 + 9999\", \"523 - 49\"]\n",
    "second_number_list, operators = get_second_number_list_and_operator(INPUT_1)\n",
    "print(second_number_list)\n",
    "print(operators)\n",
    "\n",
    "# 5.2 test the second_line() function\n",
    "second_line(INPUT_1)\n"
   ]
  },
  {
   "cell_type": "code",
   "execution_count": 142,
   "metadata": {},
   "outputs": [
    {
     "name": "stdout",
     "output_type": "stream",
     "text": [
      "\n",
      "\n",
      "  32         1      9999      523    \n",
      "\n",
      "+  8    - 3801    + 9999    -  49    "
     ]
    }
   ],
   "source": [
    "# 5.3 test the second_line() function with first_line() function\n",
    "print('\\n')\n",
    "first_line(INPUT_1)\n",
    "print('\\n')\n",
    "second_line(INPUT_1)"
   ]
  },
  {
   "cell_type": "code",
   "execution_count": 143,
   "metadata": {},
   "outputs": [
    {
     "name": "stdout",
     "output_type": "stream",
     "text": [
      "----    ------    ------    -----    "
     ]
    }
   ],
   "source": [
    "# 6 print the third line of the output\n",
    "def third_line(I):\n",
    "    length_list = get_length_list(I)\n",
    "    for i in range(len(length_list)):\n",
    "        j = 0\n",
    "        while j < length_list[i]:\n",
    "            print('-', end='')\n",
    "            j += 1\n",
    "        print(\"    \", end=\"\")\n",
    "\n",
    "# 6.1 test the third_line() function\n",
    "INPUT_1 = [\"32 + 8\", \"1 - 3801\", \"9999 + 9999\", \"523 - 49\"]\n",
    "third_line(INPUT_1)"
   ]
  },
  {
   "cell_type": "code",
   "execution_count": 144,
   "metadata": {},
   "outputs": [
    {
     "name": "stdout",
     "output_type": "stream",
     "text": [
      "  32         1      9999      523    \n",
      "\n",
      "+  8    - 3801    + 9999    -  49    \n",
      "\n",
      "----    ------    ------    -----    "
     ]
    }
   ],
   "source": [
    "# 6.2 test the third_line() with the second_line() function with first_line() function\n",
    "first_line(INPUT_1)\n",
    "print('\\n')\n",
    "second_line(INPUT_1)\n",
    "print('\\n')\n",
    "third_line(INPUT_1)"
   ]
  },
  {
   "cell_type": "code",
   "execution_count": 145,
   "metadata": {},
   "outputs": [
    {
     "name": "stdout",
     "output_type": "stream",
     "text": [
      "[40, -3800, 19998, 474]\n",
      "  40     -3800     19998      474    \n",
      "\n"
     ]
    }
   ],
   "source": [
    "# 7 print the fourth line of the output!\n",
    "def get_list_of_result_numbers(I):\n",
    "    first_number_list = get_first_number_list(I)\n",
    "    second_number_list, operators = get_second_number_list_and_operator(I)\n",
    "    result_number_list = []\n",
    "    for i in range(len(first_number_list)):\n",
    "        result = 0\n",
    "        if operators[i] == \"+\":\n",
    "            result = first_number_list[i] + second_number_list[i]\n",
    "        else:\n",
    "            result = first_number_list[i] - second_number_list[i]\n",
    "        result_number_list.append(result)\n",
    "    return result_number_list\n",
    "\n",
    "def fourth_line(I):\n",
    "    result_number_list = get_list_of_result_numbers(I)\n",
    "    length_list = get_length_list(I)\n",
    "    for i in range(len(length_list)):\n",
    "        right_print(result_number_list[i], length_list[i])\n",
    "        print(\"    \", end=\"\")\n",
    "\n",
    "# 7.1 test the get_list_of_result_numbers() function\n",
    "print(get_list_of_result_numbers(INPUT_1))\n",
    "\n",
    "# 7.2 test the fourth_line() fucntion\n",
    "fourth_line(INPUT_1)\n",
    "print('\\n')\n"
   ]
  },
  {
   "cell_type": "code",
   "execution_count": 146,
   "metadata": {},
   "outputs": [
    {
     "name": "stdout",
     "output_type": "stream",
     "text": [
      "  32         1      9999      523    \n",
      "\n",
      "+  8    - 3801    + 9999    -  49    \n",
      "\n",
      "----    ------    ------    -----    \n",
      "\n",
      "  40     -3800     19998      474    "
     ]
    }
   ],
   "source": [
    "# 7.3 test all four line output\n",
    "first_line(INPUT_1)\n",
    "print('\\n')\n",
    "second_line(INPUT_1)\n",
    "print('\\n')\n",
    "third_line(INPUT_1)\n",
    "print('\\n')\n",
    "fourth_line(INPUT_1)"
   ]
  },
  {
   "cell_type": "code",
   "execution_count": 147,
   "metadata": {},
   "outputs": [
    {
     "name": "stdout",
     "output_type": "stream",
     "text": [
      "  32         1      9999      523    \n",
      "\n",
      "+  8    - 3801    + 9999    -  49    \n",
      "\n",
      "----    ------    ------    -----    \n",
      "\n",
      "  40     -3800     19998      474    "
     ]
    }
   ],
   "source": [
    "# 8 pack all four line output functions together\n",
    "def arithmetic_arranger(I, whetehr_to_display_answers=False):\n",
    "    validation_text = input_validation(I)\n",
    "    if validation_text != 'good':\n",
    "        # print(validation_text)\n",
    "        return validation_text\n",
    "    if whetehr_to_display_answers:\n",
    "        first_line(I)\n",
    "        print('\\n')\n",
    "        second_line(I)\n",
    "        print('\\n')\n",
    "        third_line(I)\n",
    "        print('\\n')\n",
    "        fourth_line(I)\n",
    "    else:\n",
    "        first_line(I)\n",
    "        print('\\n')\n",
    "        second_line(I)\n",
    "        print('\\n')\n",
    "        third_line(I)\n",
    "\n",
    "# 8.1 test the arithmetic_arranger() function\n",
    "arithmetic_arranger(INPUT_1, True)"
   ]
  },
  {
   "cell_type": "code",
   "execution_count": 149,
   "metadata": {},
   "outputs": [
    {
     "name": "stdout",
     "output_type": "stream",
     "text": [
      "   32         1      45      123      988    \n",
      "\n",
      "- 698    - 3801    + 43    +  49    +  40    \n",
      "\n",
      "-----    ------    ----    -----    -----    \n",
      "\n",
      " -666     -3800      88      172     1028    "
     ]
    }
   ],
   "source": [
    "# 8.2 test differnet kind of input\n",
    "INPUT_2 = ['32 - 698', '1 - 3801', '45 + 43', '123 + 49', '988 + 40']\n",
    "INPUT_3 = ['3801 - 2', '123 + 49']\n",
    "INPUT_4 = ['1 + 2', '1 - 9380']\n",
    "INPUT_5 = ['3 + 855', '3801 - 2', '45 + 43', '123 + 49']\n",
    "INPUT_6 = ['11 + 4', '3801 - 2999', '1 + 2', '123 + 49', '1 - 9380']\n",
    "INPUT_7 = ['44 + 815', '909 - 2', '45 + 43', '123 + 49', '888 + 40', '653 + 87']\n",
    "INPUT_8 = ['3 / 855', '3801 - 2', '45 + 43', '123 + 49']\n",
    "INPUT_9 = ['24 + 85215', '3801 - 2', '45 + 43', '123 + 49']\n",
    "INPUT_10 = ['98 + 3g5', '3801 - 2', '45 + 43', '123 + 49']\n",
    "INPUT_11 = ['3 + 855', '988 + 40']\n",
    "INPUT_12 = ['32 - 698', '1 - 3801', '45 + 43', '123 + 49', '988 + 40']\n",
    "\n",
    "# arithmetic_arranger(INPUT_1, True)\n",
    "arithmetic_arranger(INPUT_2, True)\n",
    "# arithmetic_arranger(INPUT_3, True)\n",
    "# arithmetic_arranger(INPUT_4, True)\n",
    "# arithmetic_arranger(INPUT_5, True)\n",
    "# arithmetic_arranger(INPUT_6, True)\n",
    "# arithmetic_arranger(INPUT_7, True)\n",
    "# arithmetic_arranger(INPUT_8, True)\n",
    "# arithmetic_arranger(INPUT_9, True)\n",
    "# arithmetic_arranger(INPUT_10, True)\n",
    "# arithmetic_arranger(INPUT_11, True)\n",
    "# arithmetic_arranger(INPUT_12, True)\n"
   ]
  }
 ],
 "metadata": {
  "kernelspec": {
   "display_name": "Python 3",
   "language": "python",
   "name": "python3"
  },
  "language_info": {
   "codemirror_mode": {
    "name": "ipython",
    "version": 3
   },
   "file_extension": ".py",
   "mimetype": "text/x-python",
   "name": "python",
   "nbconvert_exporter": "python",
   "pygments_lexer": "ipython3",
   "version": "3.9.1"
  }
 },
 "nbformat": 4,
 "nbformat_minor": 2
}
