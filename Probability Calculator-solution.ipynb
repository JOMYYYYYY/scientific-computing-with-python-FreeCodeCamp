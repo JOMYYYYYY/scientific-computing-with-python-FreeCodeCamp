{
 "cells": [
  {
   "cell_type": "code",
   "execution_count": 567,
   "metadata": {},
   "outputs": [],
   "source": [
    "import random\n",
    "\n",
    "class Hat():\n",
    "    def __init__(self, **kwargs) -> None: # using **kwargs to accept muli key value pairs\n",
    "        self.colors = kwargs\n",
    "        self.contents = self.get_contents()\n",
    "    \n",
    "    def get_contents(self):\n",
    "            color_dict = self.colors\n",
    "            contents = []\n",
    "            for key, value in color_dict.items(): # using .items() to enumerate a dictonary\n",
    "                for _ in range(value):\n",
    "                    contents.append(key)\n",
    "            return contents\n",
    "    \n",
    "    def draw(self, number):\n",
    "        if number >= len(self.contents):\n",
    "            return self.contents\n",
    "        else:\n",
    "            result = []\n",
    "            for i in range(number):\n",
    "                result.append(self.contents.pop(random.randint(0, len(self.contents) - 1)))\n",
    "            return result\n",
    "        \n",
    "def experiment(hat: Hat, expected_balls: dict, num_balls_drawn: int, num_experiments: int) -> float:\n",
    "\n",
    "    # for only once, check if the draw balls are expected balls\n",
    "    def check(hat: Hat, expected_balls: dict, num_balls_drawn: int):\n",
    "        hat_copy = Hat(**hat.colors)\n",
    "        draw_list = hat_copy.draw(num_balls_drawn)\n",
    "        draw_dict = {key: draw_list.count(key) for key in set(draw_list)}\n",
    "        # print('1-->', draw_dict)\n",
    "        # print('2-->', expected_balls)\n",
    "        # print('************')\n",
    "        return draw_dict == expected_balls\n",
    "\n",
    "    \n",
    "    # do experiment many times and record the result each time\n",
    "    count_well = 0\n",
    "    for _ in range(num_experiments):\n",
    "        if check(hat, expected_balls, num_balls_drawn):\n",
    "            count_well += 1\n",
    "    \n",
    "    # return the percent of posibility\n",
    "    result = count_well / num_experiments * 100\n",
    "    return result\n",
    "\n"
   ]
  },
  {
   "cell_type": "code",
   "execution_count": 568,
   "metadata": {},
   "outputs": [
    {
     "name": "stdout",
     "output_type": "stream",
     "text": [
      "6.26360\n"
     ]
    }
   ],
   "source": [
    "hat = Hat(black=6, red=4, green=3)\n",
    "probability = experiment(hat=hat,\n",
    "                  expected_balls={\"red\":2,\"green\":1},\n",
    "                  num_balls_drawn=3,\n",
    "                  num_experiments=500000)\n",
    "print(f'{probability:.5f}')"
   ]
  },
  {
   "cell_type": "markdown",
   "metadata": {},
   "source": [
    "### down blow are draft papers"
   ]
  },
  {
   "cell_type": "code",
   "execution_count": 569,
   "metadata": {},
   "outputs": [],
   "source": [
    "def experiment(hat: Hat, expected_balls: dict, num_balls_drawn: int, num_experiments: int) -> float:\n",
    "\n",
    "    # for only once, check if the draw balls are expected balls\n",
    "    def check(hat: Hat, expected_balls: dict, num_balls_drawn: int):\n",
    "\n",
    "        # transform the expected_balls into list using list comprehension\n",
    "        expected_balls_list = sorted([key for key, value in expected_balls.items() for _ in range(value)])\n",
    "        # print(f'expected_balls_list -----> {expected_balls_list}')\n",
    "        draw_list = sorted(hat.draw(num_balls_drawn))\n",
    "        # print(f'draw_list -------------——> {draw_list}')\n",
    "\n",
    "        return expected_balls_list == draw_list\n",
    "    \n",
    "    # do experiment many times and record the result each time\n",
    "    count_well = 0\n",
    "    for _ in range(num_experiments):\n",
    "        if check(hat, expected_balls, num_balls_drawn):\n",
    "            count_well += 1\n",
    "    \n",
    "    # return the percent of posibility\n",
    "    return count_well / num_experiments * 100"
   ]
  },
  {
   "cell_type": "code",
   "execution_count": 570,
   "metadata": {},
   "outputs": [
    {
     "name": "stdout",
     "output_type": "stream",
     "text": [
      "{'yellow': 3, 'blue': 2, 'green': 6}\n",
      "['yellow', 'yellow', 'yellow', 'blue', 'blue', 'green', 'green', 'green', 'green', 'green', 'green']\n",
      "['yellow', 'yellow', 'blue', 'blue', 'green', 'green']\n"
     ]
    }
   ],
   "source": [
    "hat1 = Hat(yellow=3, blue=2, green=6)\n",
    "hat2 = Hat(red=5, orange=4)\n",
    "hat3 = Hat(red=5, orange=4, black=1, blue=0, pink=2, striped=9)\n",
    "print(hat1.colors)\n",
    "print(hat1.contents)\n",
    "hat1.draw(5)\n",
    "print(hat1.contents)"
   ]
  },
  {
   "cell_type": "code",
   "execution_count": 571,
   "metadata": {},
   "outputs": [
    {
     "name": "stdout",
     "output_type": "stream",
     "text": [
      "True\n"
     ]
    }
   ],
   "source": [
    "dic1 = {'a': 1, 'b': 2}\n",
    "dic2 = {'b': 2, 'a': 1}\n",
    "print(dic1 == dic2)"
   ]
  },
  {
   "cell_type": "code",
   "execution_count": 572,
   "metadata": {},
   "outputs": [
    {
     "name": "stdout",
     "output_type": "stream",
     "text": [
      "['apple', 'banana', 'grape', 'orange']\n"
     ]
    }
   ],
   "source": [
    "my_list = ['banana', 'apple', 'grape', 'orange']\n",
    "\n",
    "# Sort the list in-place\n",
    "my_list.sort()\n",
    "\n",
    "print(my_list)\n"
   ]
  }
 ],
 "metadata": {
  "kernelspec": {
   "display_name": "Python 3",
   "language": "python",
   "name": "python3"
  },
  "language_info": {
   "codemirror_mode": {
    "name": "ipython",
    "version": 3
   },
   "file_extension": ".py",
   "mimetype": "text/x-python",
   "name": "python",
   "nbconvert_exporter": "python",
   "pygments_lexer": "ipython3",
   "version": "3.9.1"
  }
 },
 "nbformat": 4,
 "nbformat_minor": 2
}
