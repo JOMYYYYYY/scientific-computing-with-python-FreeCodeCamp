{
 "cells": [
  {
   "cell_type": "markdown",
   "metadata": {},
   "source": [
    "# Category Class in budget.py\n",
    "\n",
    "Complete the Category class in `budget.py`. It should be able to instantiate objects based on different budget categories like food, clothing, and entertainment. When objects are created, they are passed in the name of the category. The class should have an instance variable called `ledger` that is a list. The class should also contain the following methods:\n",
    "\n",
    "- A `deposit` method that accepts an amount and description. If no description is given, it should default to an empty string. The method should append an object to the ledger list in the form of `{\"amount\": amount, \"description\": description}`.\n",
    "  \n",
    "- A `withdraw` method that is similar to the deposit method, but the amount passed in should be stored in the ledger as a negative number. If there are not enough funds, nothing should be added to the ledger. This method should return True if the withdrawal took place, and False otherwise.\n",
    "  \n",
    "- A `get_balance` method that returns the current balance of the budget category based on the deposits and withdrawals that have occurred.\n",
    "  \n",
    "- A `transfer` method that accepts an amount and another budget category as arguments. The method should add a withdrawal with the amount and the description \"Transfer to [Destination Budget Category]\". The method should then add a deposit to the other budget category with the amount and the description \"Transfer from [Source Budget Category]\". If there are not enough funds, nothing should be added to either ledgers. This method should return True if the transfer took place, and False otherwise.\n",
    "  \n",
    "- A `check_funds` method that accepts an amount as an argument. It returns False if the amount is greater than the balance of the budget category and returns True otherwise. This method should be used by both the withdraw method and transfer method.\n",
    "\n",
    "When the budget object is printed it should display:\n",
    "\n",
    "- A title line of 30 characters where the name of the category is centered in a line of * characters.\n",
    "  \n",
    "- A list of the items in the ledger. Each line should show the description and amount. The first 23 characters of the description should be displayed, then the amount. The amount should be right-aligned, contain two decimal places, and display a maximum of 7 characters.\n",
    "  \n",
    "- A line displaying the category total.\n",
    "\n",
    "Here is an example of the output:\n",
    "\n",
    "```plaintext\n",
    "*************Food*************\n",
    "initial deposit        1000.00\n",
    "groceries               -10.15\n",
    "restaurant and more foo -15.89\n",
    "Transfer to Clothing    -50.00\n",
    "Total: 923.96\n"
   ]
  },
  {
   "cell_type": "code",
   "execution_count": 46,
   "metadata": {},
   "outputs": [],
   "source": [
    "# solution\n",
    "\n",
    "# 1 build up the Category class according to the requirment\n",
    "class Category:\n",
    "    def __init__(self, category: str) -> None:\n",
    "        self.category = category\n",
    "        self.ledger = []\n",
    "    \n",
    "    def deposit(self, amount: float, description=''):\n",
    "        self.ledger.append({\"amount\": amount, \"description\": description})\n",
    "\n",
    "    def withdraw(self, amount: float, description=''):\n",
    "        if self.check_funds(amount):\n",
    "            self.ledger.append({\"amount\": -amount, \"description\": description})\n",
    "            return True\n",
    "        else:\n",
    "            return False\n",
    "\n",
    "    def get_balance(self):\n",
    "        balance = 0\n",
    "        for operation in self.ledger:\n",
    "            balance += operation[\"amount\"]\n",
    "        return balance\n",
    "\n",
    "    def transfer(self, amount: float, category_instance: 'Category'): # ''is needed to specify the type of class itself\n",
    "        if self.check_funds(amount):\n",
    "            self.withdraw(amount, f\"Transfer to {category_instance.category}\")\n",
    "            self.deposit(amount, f\"Transfer from {self.category}\")\n",
    "            return True\n",
    "        else:\n",
    "            return False\n",
    "    \n",
    "    def check_funds(self, amount: float):\n",
    "        if amount <= self.get_balance():\n",
    "            return True\n",
    "        else:\n",
    "            return False\n",
    "        \n",
    "    # The __str__ method is a special method in Python that is called by the str() built-in function and the print() function.\n",
    "    def __str__(self) -> str:\n",
    "        title = f'{self.category:*^30}\\n'\n",
    "        in_and_out = ''\n",
    "        for item in self.ledger:\n",
    "            in_and_out += f'{item[\"description\"][:23]:23}{item[\"amount\"]:>7.2f}\\n'\n",
    "        total = f'Total: {self.get_balance():<.2f}'\n",
    "        return title + in_and_out + total"
   ]
  },
  {
   "cell_type": "code",
   "execution_count": 47,
   "metadata": {},
   "outputs": [],
   "source": [
    "# # 2 finish the create_spend_chart() function\n",
    "# def create_spend_chart(category_list: list):\n",
    "#     title = \"Percentage spent by category\"\n",
    "\n",
    "#     # 2.1 get the amount of total spent for any catogory instance of Category\n",
    "#     def get_spent_from_one_category(category_instance) -> float:\n",
    "#         spent = 0\n",
    "#         for item in category_instance.ledger:\n",
    "#             if item['amount'] < 0:\n",
    "#                 spent -= (item['amount'])\n",
    "#         return spent\n",
    "    \n",
    "#     # 2.2 get a dictonary for any catogory instance of Category, -> {name_of_the_category: spent_of_the_category ...}\n",
    "#     def get_dictionay_spent(category_list: list) -> dict:\n",
    "#         dict_spent = {}\n",
    "#         for cat in category_list:\n",
    "#             name_of_the_category = cat.category\n",
    "#             spent_of_the_category = get_spent_from_one_category(cat)\n",
    "#             dict_spent[name_of_the_category] = spent_of_the_category\n",
    "#         return dict_spent\n",
    "    \n",
    "#     # 2.3 based on the get_dictionay_spent, round the spents into nearest 10 percent\n",
    "#     def get_dictionay_percent(dict_spent: dict) -> dict:\n",
    "#         total_spent = sum(dict_spent.values)\n",
    "#         return {key: int(round(value / total_spent * 100, -1) / 10) for key, value in dict_spent.items()}\n",
    "        \n",
    "#     # 2.4 get the total print length of each line\n",
    "#     def get_print_length_horizontal(category_list: list) -> int:\n",
    "#         return 7 + len(category_list)+ (len(category_list)-1) * 2\n",
    "    \n",
    "#     # 2.5 get the total print line times\n",
    "#     def get_print_length_vertical(category_list: list) -> int:\n",
    "#         def max_length(category_list: list) -> int:\n",
    "#             max_length = 0\n",
    "#             for item in category_list:\n",
    "#                 if max_length < len(item.category):\n",
    "#                     max_length = len(item.category)\n",
    "#             return max_length\n",
    "#         return 12 + max_length(category_list)\n",
    "\n"
   ]
  },
  {
   "cell_type": "code",
   "execution_count": null,
   "metadata": {},
   "outputs": [],
   "source": [
    "# I dont kown how to finish the create_spend_chart() function, so I turned to ChatGPT after several tries with failure..."
   ]
  },
  {
   "cell_type": "code",
   "execution_count": 48,
   "metadata": {},
   "outputs": [],
   "source": [
    "def create_spend_chart(categories):\n",
    "    # Calculate the percentage spent for each category\n",
    "    spendings = [sum(item[\"amount\"] for item in cat.ledger if item[\"amount\"] < 0) for cat in categories]\n",
    "    total_spending = sum(spendings)\n",
    "    percentages = [(spending / total_spending) * 100 if total_spending != 0 else 0 for spending in spendings]\n",
    "\n",
    "    # Build the chart\n",
    "    chart = \"Percentage spent by category\\n\"\n",
    "    for i in range(100, -1, -10):\n",
    "        chart += str(i).rjust(3) + \"| \"\n",
    "        for percentage in percentages:\n",
    "            chart += \"o\" if percentage >= i else \" \"\n",
    "            chart += \"  \"\n",
    "        chart += \"\\n\"\n",
    "\n",
    "    chart += \"    ----------\\n\"\n",
    "\n",
    "    # Write category names vertically below the bars\n",
    "    max_len = max(len(cat.category) for cat in categories)\n",
    "    for i in range(max_len):\n",
    "        chart += \"     \"\n",
    "        for cat in categories:\n",
    "            chart += cat.category[i] if i < len(cat.category) else \" \"\n",
    "            chart += \"  \"\n",
    "        chart += \"\\n\"\n",
    "\n",
    "    return chart.rstrip('\\n')\n"
   ]
  },
  {
   "cell_type": "code",
   "execution_count": 53,
   "metadata": {},
   "outputs": [
    {
     "name": "stdout",
     "output_type": "stream",
     "text": [
      "Percentage spent by category\n",
      "100|          \n",
      " 90|          \n",
      " 80|          \n",
      " 70|          \n",
      " 60|          \n",
      " 50|          \n",
      " 40|          \n",
      " 30| o  o     \n",
      " 20| o  o  o  \n",
      " 10| o  o  o  \n",
      "  0| o  o  o  \n",
      "    ----------\n",
      "     F  C  E  \n",
      "     o  l  n  \n",
      "     o  o  t  \n",
      "     d  t  e  \n",
      "        h  r  \n",
      "        i  t  \n",
      "        n  a  \n",
      "        g  i  \n",
      "           n  \n",
      "           m  \n",
      "           e  \n",
      "           n  \n",
      "           t  \n"
     ]
    }
   ],
   "source": [
    "# Example usage:\n",
    "food = Category(\"Food\")\n",
    "clothing = Category(\"Clothing\")\n",
    "entertainment = Category(\"Entertainment\")\n",
    "\n",
    "food.deposit(1000, \"Initial deposit\")\n",
    "food.withdraw(10.15, \"Groceries\")\n",
    "food.withdraw(15.89, \"Restaurant\")\n",
    "\n",
    "clothing.deposit(500, \"Initial deposit\")\n",
    "clothing.withdraw(25.55, \"Clothing\")\n",
    "\n",
    "entertainment.deposit(200, \"Initial deposit\")\n",
    "entertainment.withdraw(5.75, \"Movie\")\n",
    "entertainment.withdraw(10, \"Concert\")\n",
    "\n",
    "categories = [food, clothing, entertainment]\n",
    "print(create_spend_chart(categories))\n"
   ]
  },
  {
   "cell_type": "markdown",
   "metadata": {},
   "source": [
    "### draft papers down below"
   ]
  },
  {
   "cell_type": "code",
   "execution_count": 50,
   "metadata": {},
   "outputs": [
    {
     "name": "stdout",
     "output_type": "stream",
     "text": [
      "Rounded Percentages to Nearest 10%: {'a': 2, 'b': 3, 'c': 5}\n"
     ]
    }
   ],
   "source": [
    "my_dict = {'a': 10, 'b': 20, 'c': 30}\n",
    "\n",
    "# Calculate the sum of values\n",
    "total_sum = sum(my_dict.values())\n",
    "\n",
    "# Calculate the percentage for each value, round to the nearest 10 percent\n",
    "rounded_percentages = {key: int(round((value / total_sum) * 100, -1) / 10) for key, value in my_dict.items()}\n",
    "\n",
    "print(\"Rounded Percentages to Nearest 10%:\", rounded_percentages)\n"
   ]
  },
  {
   "cell_type": "code",
   "execution_count": 51,
   "metadata": {},
   "outputs": [
    {
     "name": "stdout",
     "output_type": "stream",
     "text": [
      "*************Food*************\n",
      "initial deposit        1000.00\n",
      "groceries               -10.15\n",
      "restaurant and more foo -15.89\n",
      "Transfer to Clothing    -50.00\n",
      "Transfer from Food       50.00\n",
      "Total: 973.96\n"
     ]
    }
   ],
   "source": [
    "# test the Catrgory calss and the methods inside\n",
    "food_category = Category(\"Food\")\n",
    "food_category.deposit(1000, \"initial deposit\")\n",
    "food_category.withdraw(10.15, \"groceries\")\n",
    "food_category.withdraw(15.89, \"restaurant and more foo\")\n",
    "\n",
    "clothing_category = Category(\"Clothing\")\n",
    "food_category.transfer(50, clothing_category)\n",
    "\n",
    "print(food_category)"
   ]
  }
 ],
 "metadata": {
  "kernelspec": {
   "display_name": "Python 3",
   "language": "python",
   "name": "python3"
  },
  "language_info": {
   "codemirror_mode": {
    "name": "ipython",
    "version": 3
   },
   "file_extension": ".py",
   "mimetype": "text/x-python",
   "name": "python",
   "nbconvert_exporter": "python",
   "pygments_lexer": "ipython3",
   "version": "3.9.1"
  }
 },
 "nbformat": 4,
 "nbformat_minor": 2
}
